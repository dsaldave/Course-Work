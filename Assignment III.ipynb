{
 "cells": [
  {
   "cell_type": "markdown",
   "metadata": {},
   "source": [
    "### Q1. Why is it important to scale the inputs when using SVMs?\n",
    "( Use any data, e.g Iris)"
   ]
  },
  {
   "cell_type": "markdown",
   "metadata": {},
   "source": [
    "Support Vector Machines are typically applied to classification problems, where they use feature similarity to predict the class of a target variable. To explain how this works, the concept of a phase space is useful. Within a phase space, features are represented as having a spatial relationship to one another. The distance between features is used to make inferences about similarity (and implicitly about the structure of the data). Without scaling, these distances may have more to do with the magnitude, units, or range of each feature than the underlying relationship. For example, a persons weight expressed in grams would influence an algorithm that classifies a person as healthy or unhealthy more than the same weight expressed in pounds. So essentially, scaling makes it possible for a machine to discern the salient relationships."
   ]
  },
  {
   "cell_type": "code",
   "execution_count": 31,
   "metadata": {},
   "outputs": [],
   "source": [
    "import numpy as np\n",
    "import pandas as pd \n",
    "import matplotlib.pyplot as plt\n",
    "from matplotlib.colors import Normalize\n",
    "import seaborn as sb\n",
    "from sklearn import datasets\n",
    "from sklearn.pipeline import Pipeline\n",
    "from sklearn.preprocessing import StandardScaler, MinMaxScaler, LabelBinarizer\n",
    "from sklearn.svm import LinearSVC, SVC\n",
    "from sklearn import model_selection\n",
    "from sklearn.model_selection import GridSearchCV, StratifiedShuffleSplit\n",
    "from scipy import sparse\n",
    "%matplotlib inline"
   ]
  },
  {
   "cell_type": "code",
   "execution_count": 3,
   "metadata": {},
   "outputs": [],
   "source": [
    "# load the data and divide it into features and target\n",
    "iris = datasets.load_iris()\n",
    "X = iris[\"data\"]\n",
    "y = iris[\"target\"]\n",
    "scaler = StandardScaler().fit(X)\n",
    "X_transformed = scaler.transform(X)"
   ]
  },
  {
   "cell_type": "code",
   "execution_count": 4,
   "metadata": {},
   "outputs": [
    {
     "data": {
      "text/plain": [
       "'The average accuracy for unscaled data is 0.9466666666666667'"
      ]
     },
     "execution_count": 4,
     "metadata": {},
     "output_type": "execute_result"
    }
   ],
   "source": [
    "model = LinearSVC(loss = 'hinge')\n",
    "cv_results = model_selection.cross_val_score(model, X, y, cv =10, scoring = 'accuracy')\n",
    "results = cv_results.mean()\n",
    "# Accuracy = number of correct predictions / total number or predictions\n",
    "# A good metric for demonstrating the importance of feature scaling\n",
    "f'The average accuracy for unscaled data is {results}'"
   ]
  },
  {
   "cell_type": "code",
   "execution_count": 5,
   "metadata": {},
   "outputs": [
    {
     "data": {
      "text/plain": [
       "'The average accuracy for scaled data is 0.9133333333333333'"
      ]
     },
     "execution_count": 5,
     "metadata": {},
     "output_type": "execute_result"
    }
   ],
   "source": [
    "cv_results = model_selection.cross_val_score(model, X_transformed, y, cv = 10, scoring = 'accuracy')\n",
    "scaled_results = cv_results.mean()\n",
    "    \n",
    "f'The average accuracy for scaled data is {scaled_results}'"
   ]
  },
  {
   "cell_type": "markdown",
   "metadata": {},
   "source": [
    "This result is unexpected. A possible explanation is that some of the features are near constant, except for noise. If this is the case, standardization will amplify the noise. "
   ]
  },
  {
   "cell_type": "markdown",
   "metadata": {},
   "source": [
    "Upon second thought, this result makes sense. The columns represent ['sepal length (cm)', 'sepal width (cm)', 'petal length (cm)', 'petal width (cm)']. The scale is significant in this case, and by stripping the magnitudes we are losing information."
   ]
  },
  {
   "cell_type": "markdown",
   "metadata": {},
   "source": [
    "### Q2. How can an SVM classifier output a confidence score when it classifies an instance? demonstrate with a block of code."
   ]
  },
  {
   "cell_type": "markdown",
   "metadata": {},
   "source": [
    "To return a confidence score, we have to use the SVC class rather than LinearSVC. The latter is implemented in the liblinear library rather than libsvm, which makes it well suited to classification with a linear kernel, but unfit for other tasks. The SVC class has a property 'probability' which can be set to true. Then, the predict_proba() method is called after we fit the model."
   ]
  },
  {
   "cell_type": "code",
   "execution_count": 7,
   "metadata": {},
   "outputs": [
    {
     "data": {
      "text/html": [
       "<div>\n",
       "<style scoped>\n",
       "    .dataframe tbody tr th:only-of-type {\n",
       "        vertical-align: middle;\n",
       "    }\n",
       "\n",
       "    .dataframe tbody tr th {\n",
       "        vertical-align: top;\n",
       "    }\n",
       "\n",
       "    .dataframe thead th {\n",
       "        text-align: right;\n",
       "    }\n",
       "</style>\n",
       "<table border=\"1\" class=\"dataframe\">\n",
       "  <thead>\n",
       "    <tr style=\"text-align: right;\">\n",
       "      <th></th>\n",
       "      <th>Setosa</th>\n",
       "      <th>Versicolor</th>\n",
       "      <th>Virginica</th>\n",
       "      <th>Mean</th>\n",
       "    </tr>\n",
       "  </thead>\n",
       "  <tbody>\n",
       "    <tr>\n",
       "      <th>0</th>\n",
       "      <td>0.972071</td>\n",
       "      <td>0.014004</td>\n",
       "      <td>0.013925</td>\n",
       "      <td>NaN</td>\n",
       "    </tr>\n",
       "    <tr>\n",
       "      <th>10</th>\n",
       "      <td>0.967368</td>\n",
       "      <td>0.017631</td>\n",
       "      <td>0.015001</td>\n",
       "      <td>NaN</td>\n",
       "    </tr>\n",
       "    <tr>\n",
       "      <th>20</th>\n",
       "      <td>0.957512</td>\n",
       "      <td>0.026308</td>\n",
       "      <td>0.016180</td>\n",
       "      <td>NaN</td>\n",
       "    </tr>\n",
       "    <tr>\n",
       "      <th>30</th>\n",
       "      <td>0.963583</td>\n",
       "      <td>0.020316</td>\n",
       "      <td>0.016101</td>\n",
       "      <td>NaN</td>\n",
       "    </tr>\n",
       "    <tr>\n",
       "      <th>40</th>\n",
       "      <td>0.972647</td>\n",
       "      <td>0.013227</td>\n",
       "      <td>0.014126</td>\n",
       "      <td>NaN</td>\n",
       "    </tr>\n",
       "    <tr>\n",
       "      <th>50</th>\n",
       "      <td>0.016034</td>\n",
       "      <td>0.956922</td>\n",
       "      <td>0.027044</td>\n",
       "      <td>NaN</td>\n",
       "    </tr>\n",
       "    <tr>\n",
       "      <th>60</th>\n",
       "      <td>0.015580</td>\n",
       "      <td>0.947631</td>\n",
       "      <td>0.036789</td>\n",
       "      <td>NaN</td>\n",
       "    </tr>\n",
       "    <tr>\n",
       "      <th>70</th>\n",
       "      <td>0.012426</td>\n",
       "      <td>0.495200</td>\n",
       "      <td>0.492374</td>\n",
       "      <td>NaN</td>\n",
       "    </tr>\n",
       "    <tr>\n",
       "      <th>80</th>\n",
       "      <td>0.006787</td>\n",
       "      <td>0.986938</td>\n",
       "      <td>0.006275</td>\n",
       "      <td>NaN</td>\n",
       "    </tr>\n",
       "    <tr>\n",
       "      <th>90</th>\n",
       "      <td>0.007293</td>\n",
       "      <td>0.962295</td>\n",
       "      <td>0.030412</td>\n",
       "      <td>NaN</td>\n",
       "    </tr>\n",
       "    <tr>\n",
       "      <th>100</th>\n",
       "      <td>0.013001</td>\n",
       "      <td>0.002588</td>\n",
       "      <td>0.984411</td>\n",
       "      <td>NaN</td>\n",
       "    </tr>\n",
       "    <tr>\n",
       "      <th>110</th>\n",
       "      <td>0.011166</td>\n",
       "      <td>0.085828</td>\n",
       "      <td>0.903006</td>\n",
       "      <td>NaN</td>\n",
       "    </tr>\n",
       "    <tr>\n",
       "      <th>120</th>\n",
       "      <td>0.008577</td>\n",
       "      <td>0.003842</td>\n",
       "      <td>0.987581</td>\n",
       "      <td>NaN</td>\n",
       "    </tr>\n",
       "    <tr>\n",
       "      <th>130</th>\n",
       "      <td>0.009140</td>\n",
       "      <td>0.008541</td>\n",
       "      <td>0.982318</td>\n",
       "      <td>NaN</td>\n",
       "    </tr>\n",
       "    <tr>\n",
       "      <th>140</th>\n",
       "      <td>0.009092</td>\n",
       "      <td>0.002761</td>\n",
       "      <td>0.988147</td>\n",
       "      <td>NaN</td>\n",
       "    </tr>\n",
       "    <tr>\n",
       "      <th>Setosa</th>\n",
       "      <td>NaN</td>\n",
       "      <td>NaN</td>\n",
       "      <td>NaN</td>\n",
       "      <td>0.968917</td>\n",
       "    </tr>\n",
       "    <tr>\n",
       "      <th>Versicolor</th>\n",
       "      <td>NaN</td>\n",
       "      <td>NaN</td>\n",
       "      <td>NaN</td>\n",
       "      <td>0.963446</td>\n",
       "    </tr>\n",
       "    <tr>\n",
       "      <th>Virginica</th>\n",
       "      <td>NaN</td>\n",
       "      <td>NaN</td>\n",
       "      <td>NaN</td>\n",
       "      <td>0.969093</td>\n",
       "    </tr>\n",
       "  </tbody>\n",
       "</table>\n",
       "</div>"
      ],
      "text/plain": [
       "              Setosa  Versicolor  Virginica      Mean\n",
       "0           0.972071    0.014004   0.013925       NaN\n",
       "10          0.967368    0.017631   0.015001       NaN\n",
       "20          0.957512    0.026308   0.016180       NaN\n",
       "30          0.963583    0.020316   0.016101       NaN\n",
       "40          0.972647    0.013227   0.014126       NaN\n",
       "50          0.016034    0.956922   0.027044       NaN\n",
       "60          0.015580    0.947631   0.036789       NaN\n",
       "70          0.012426    0.495200   0.492374       NaN\n",
       "80          0.006787    0.986938   0.006275       NaN\n",
       "90          0.007293    0.962295   0.030412       NaN\n",
       "100         0.013001    0.002588   0.984411       NaN\n",
       "110         0.011166    0.085828   0.903006       NaN\n",
       "120         0.008577    0.003842   0.987581       NaN\n",
       "130         0.009140    0.008541   0.982318       NaN\n",
       "140         0.009092    0.002761   0.988147       NaN\n",
       "Setosa           NaN         NaN        NaN  0.968917\n",
       "Versicolor       NaN         NaN        NaN  0.963446\n",
       "Virginica        NaN         NaN        NaN  0.969093"
      ]
     },
     "execution_count": 7,
     "metadata": {},
     "output_type": "execute_result"
    }
   ],
   "source": [
    "classifier = SVC(probability=True)\n",
    "model = classifier.fit(X,y)\n",
    "#model.predict_proba(X)...don't run\n",
    "confidence = pd.DataFrame(model.predict_proba(X)).iloc[::10,:]\n",
    "confidence.columns = ['Setosa', 'Versicolor', 'Virginica']\n",
    "Set = confidence.Setosa[(confidence.Setosa > 0.959666)].mean()\n",
    "Ver = confidence.Versicolor[(confidence.Versicolor > 0.497529)].mean()\n",
    "Vir = confidence.Virginica[(confidence.Virginica > 0.898209)].mean()\n",
    "quickrows = pd.DataFrame([Set, Ver, Vir], index= ['Setosa', 'Versicolor', 'Virginica']\n",
    "                        , columns = ['Mean'])\n",
    "confidence.append(quickrows, sort = False)"
   ]
  },
  {
   "cell_type": "markdown",
   "metadata": {},
   "source": [
    "The above chart is a rough sketch of the how confident the classifier is in its predictions. It is important to note that these values are not actually probabilites, and while they may be provide a useful indication about the model, the mathematical soundness of these scores is debatable."
   ]
  },
  {
   "cell_type": "markdown",
   "metadata": {},
   "source": [
    "### Q3. If you train an SVM classifier with an RBF Kernel and you find out that it underfits the training set. Should you increase/ decrease the gamma? What about C? write a code to prove your statement."
   ]
  },
  {
   "cell_type": "markdown",
   "metadata": {},
   "source": [
    "We can correct underfitting by increasing c and gamma. Increasing c will make the margins of the decision boundary narrower, which reduces margin violations and makes the decision boundary more responsive to the variance of the training data. To explain the  effect of gamma on fit, it is necessary to discuss 'feature similarity' transformations.\n",
    "\n",
    "We can generate a new feature by selecting a landmark instance and evaluating the relative similarity (distance) of all other instances. If gamma is small, the 'influence' of the landmark instance will be large, and the new feature will represent all other instances as similar to the landmark (even if they are not). If gamma is large, the influence of the landmark instance will be small, and the new feature may underrepresent the similarity of nearby instances. An appropriate gamma will increase the separability of the target class. The process can be repeated m times.\n",
    "\n",
    "We can evaluate whether a classifier is underfitting a model by plotting a learning curve. If the train and test data have a similar error when the set size is sufficiently large, the model is likely underfitting. In this case, it is more appropriate to compare the cross validated accuracy for ranges of c and gamma (selected arbitrarily)."
   ]
  },
  {
   "cell_type": "code",
   "execution_count": 48,
   "metadata": {},
   "outputs": [
    {
     "data": {
      "text/plain": [
       "GridSearchCV(cv=StratifiedShuffleSplit(n_splits=5, random_state=42, test_size=0.2,\n",
       "            train_size=None),\n",
       "       error_score='raise',\n",
       "       estimator=SVC(C=1.0, cache_size=200, class_weight=None, coef0=0.0,\n",
       "  decision_function_shape='ovr', degree=3, gamma='auto', kernel='rbf',\n",
       "  max_iter=-1, probability=False, random_state=None, shrinking=True,\n",
       "  tol=0.001, verbose=False),\n",
       "       fit_params=None, iid=True, n_jobs=1,\n",
       "       param_grid={'gamma': [0.1, 1, 5, 10, 100], 'C': [0.001, 0.01, 0.1, 1, 10]},\n",
       "       pre_dispatch='2*n_jobs', refit=True, return_train_score='warn',\n",
       "       scoring=None, verbose=0)"
      ]
     },
     "execution_count": 48,
     "metadata": {},
     "output_type": "execute_result"
    }
   ],
   "source": [
    "gamma_range = [0.1, 1, 5, 10, 100]\n",
    "C_range = [0.001, 0.01, 0.1, 1, 10]\n",
    "classifiers = []\n",
    "param_grid = dict(gamma=gamma_range, C=C_range)\n",
    "cv = StratifiedShuffleSplit(n_splits=5, test_size=0.2, random_state=42)\n",
    "grid = GridSearchCV(SVC(), param_grid=param_grid, cv=cv)\n",
    "grid.fit(X, y)"
   ]
  },
  {
   "cell_type": "code",
   "execution_count": 46,
   "metadata": {},
   "outputs": [],
   "source": [
    "#from the docs\n",
    "class MidpointNormalize(Normalize):\n",
    "\n",
    "    def __init__(self, vmin=None, vmax=None, midpoint=None, clip=False):\n",
    "        self.midpoint = midpoint\n",
    "        Normalize.__init__(self, vmin, vmax, clip)\n",
    "\n",
    "    def __call__(self, value, clip=None):\n",
    "        x, y = [self.vmin, self.midpoint, self.vmax], [0, 0.5, 1]\n",
    "        return np.ma.masked_array(np.interp(value, x, y))"
   ]
  },
  {
   "cell_type": "code",
   "execution_count": 49,
   "metadata": {},
   "outputs": [
    {
     "data": {
      "image/png": "[encoded data removed]",
      "text/plain": [
       "<Figure size 720x720 with 2 Axes>"
      ]
     },
     "metadata": {
      "needs_background": "light"
     },
     "output_type": "display_data"
    }
   ],
   "source": [
    "scores = grid.cv_results_['mean_test_score'].reshape(len(C_range),\n",
    "                                                     len(gamma_range))\n",
    "\n",
    "plt.figure(figsize=(10, 10))\n",
    "plt.subplots_adjust(left=.2, right=0.95, bottom=0.15, top=0.95)\n",
    "plt.imshow(scores, interpolation='nearest', cmap=plt.cm.hot,\n",
    "           norm=MidpointNormalize(vmin=0.2, midpoint=0.92))\n",
    "plt.xlabel('gamma')\n",
    "plt.ylabel('C')\n",
    "plt.colorbar()\n",
    "plt.xticks(np.arange(len(gamma_range)), gamma_range, rotation=45)\n",
    "plt.yticks(np.arange(len(C_range)), C_range)\n",
    "plt.title('Validation accuracy')\n",
    "plt.show()"
   ]
  },
  {
   "cell_type": "markdown",
   "metadata": {},
   "source": [
    "The iris data is quite simple, so similarity based transformations have limited use, but margin adjustments appear fairly important."
   ]
  },
  {
   "cell_type": "markdown",
   "metadata": {},
   "source": [
    "### Q4. How can you train a SVM regressor on a sample data?\n"
   ]
  },
  {
   "cell_type": "markdown",
   "metadata": {},
   "source": [
    "This question is slightly ambiguous, but I will get clarification and update the submission."
   ]
  }
 ],
 "metadata": {
  "kernelspec": {
   "display_name": "Python 3",
   "language": "python",
   "name": "python3"
  },
  "language_info": {
   "codemirror_mode": {
    "name": "ipython",
    "version": 3
   },
   "file_extension": ".py",
   "mimetype": "text/x-python",
   "name": "python",
   "nbconvert_exporter": "python",
   "pygments_lexer": "ipython3",
   "version": "3.7.0"
  }
 },
 "nbformat": 4,
 "nbformat_minor": 2
}
